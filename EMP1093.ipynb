{
  "nbformat": 4,
  "nbformat_minor": 0,
  "metadata": {
    "colab": {
      "provenance": [],
      "include_colab_link": true
    },
    "kernelspec": {
      "name": "python3",
      "display_name": "Python 3"
    },
    "language_info": {
      "name": "python"
    }
  },
  "cells": [
    {
      "cell_type": "markdown",
      "metadata": {
        "id": "view-in-github",
        "colab_type": "text"
      },
      "source": [
        "<a href=\"https://colab.research.google.com/github/Yashwanth2303A51093/Data-Mining/blob/main/EMP1093.ipynb\" target=\"_parent\"><img src=\"https://colab.research.google.com/assets/colab-badge.svg\" alt=\"Open In Colab\"/></a>"
      ]
    },
    {
      "cell_type": "code",
      "execution_count": null,
      "metadata": {
        "colab": {
          "base_uri": "https://localhost:8080/"
        },
        "id": "ZN-gGxUaQrvr",
        "outputId": "f6e21d5f-0442-4cc2-880a-ed84f30ac883"
      },
      "outputs": [
        {
          "output_type": "stream",
          "name": "stdout",
          "text": [
            "Dataset Information:\n",
            "<class 'pandas.core.frame.DataFrame'>\n",
            "RangeIndex: 14 entries, 0 to 13\n",
            "Data columns (total 5 columns):\n",
            " #   Column     Non-Null Count  Dtype \n",
            "---  ------     --------------  ----- \n",
            " 0   DOB        14 non-null     object\n",
            " 1   BASIC_PAY  14 non-null     int64 \n",
            " 2   HRA        14 non-null     int64 \n",
            " 3   DA         14 non-null     int64 \n",
            " 4   TAX        14 non-null     int64 \n",
            "dtypes: int64(4), object(1)\n",
            "memory usage: 692.0+ bytes\n",
            "None\n",
            "\n",
            "First Few Rows of the Dataset:\n",
            "          DOB  BASIC_PAY    HRA    DA   TAX\n",
            "0  07-03-2004      75000  12500  5200  4500\n",
            "1  10-03-2002      79500  13200  5600  5000\n",
            "2  12-03-2000      84000  13900  6000  5500\n",
            "3  15-03-1998      88500  14600  6400  6000\n",
            "4  17-03-1996      93000  15300  6800  6500\n",
            "\n",
            "Missing Values in Each Column:\n",
            "DOB          0\n",
            "BASIC_PAY    0\n",
            "HRA          0\n",
            "DA           0\n",
            "TAX          0\n",
            "dtype: int64\n",
            "\n",
            "First Few Rows After Min-Max Scaling:\n",
            "          DOB  BASIC_PAY       HRA        DA       TAX\n",
            "0  07-03-2004   0.000000  0.000000  0.000000  0.000000\n",
            "1  10-03-2002   0.076923  0.076923  0.076923  0.076923\n",
            "2  12-03-2000   0.153846  0.153846  0.153846  0.153846\n",
            "3  15-03-1998   0.230769  0.230769  0.230769  0.230769\n",
            "4  17-03-1996   0.307692  0.307692  0.307692  0.307692\n",
            "\n",
            "Processed dataset saved as: EMP_SAL_processed.csv\n",
            "          DOB  BASIC_PAY       HRA        DA       TAX\n",
            "0  07-03-2004   0.000000  0.000000  0.000000  0.000000\n",
            "1  10-03-2002   0.076923  0.076923  0.076923  0.076923\n",
            "2  12-03-2000   0.153846  0.153846  0.153846  0.153846\n",
            "3  15-03-1998   0.230769  0.230769  0.230769  0.230769\n",
            "4  17-03-1996   0.307692  0.307692  0.307692  0.307692\n",
            "           DOB  BASIC_PAY       HRA        DA       TAX\n",
            "0   07-03-2004   0.000000  0.000000  0.000000  0.000000\n",
            "1   10-03-2002   0.076923  0.076923  0.076923  0.076923\n",
            "2   12-03-2000   0.153846  0.153846  0.153846  0.153846\n",
            "3   15-03-1998   0.230769  0.230769  0.230769  0.230769\n",
            "4   17-03-1996   0.307692  0.307692  0.307692  0.307692\n",
            "5   20-03-1994   0.384615  0.384615  0.384615  0.384615\n",
            "6   22-03-1992   0.461538  0.461538  0.461538  0.461538\n",
            "7   25-03-1990   0.538462  0.538462  0.538462  0.538462\n",
            "8   27-03-1988   0.615385  0.615385  0.615385  0.615385\n",
            "9   30-03-1986   0.692308  0.692308  0.692308  0.692308\n",
            "10  01-04-1984   0.769231  0.769231  0.769231  0.769231\n",
            "11  04-04-1982   0.846154  0.846154  0.846154  0.846154\n",
            "12  06-04-1980   0.923077  0.923077  0.923077  0.923077\n",
            "13  09-04-1978   1.000000  1.000000  1.000000  1.000000\n",
            "           DOB  BASIC_PAY       HRA        DA       TAX\n",
            "0   07-03-2004   0.000000  0.000000  0.000000  0.000000\n",
            "1   10-03-2002   0.076923  0.076923  0.076923  0.076923\n",
            "2   12-03-2000   0.153846  0.153846  0.153846  0.153846\n",
            "3   15-03-1998   0.230769  0.230769  0.230769  0.230769\n",
            "4   17-03-1996   0.307692  0.307692  0.307692  0.307692\n",
            "5   20-03-1994   0.384615  0.384615  0.384615  0.384615\n",
            "6   22-03-1992   0.461538  0.461538  0.461538  0.461538\n",
            "7   25-03-1990   0.538462  0.538462  0.538462  0.538462\n",
            "8   27-03-1988   0.615385  0.615385  0.615385  0.615385\n",
            "9   30-03-1986   0.692308  0.692308  0.692308  0.692308\n",
            "10  01-04-1984   0.769231  0.769231  0.769231  0.769231\n",
            "11  04-04-1982   0.846154  0.846154  0.846154  0.846154\n",
            "12  06-04-1980   0.923077  0.923077  0.923077  0.923077\n",
            "13  09-04-1978   1.000000  1.000000  1.000000  1.000000\n",
            "       BASIC_PAY        HRA         DA        TAX\n",
            "count  14.000000  14.000000  14.000000  14.000000\n",
            "mean    0.500000   0.500000   0.500000   0.500000\n",
            "std     0.321792   0.321792   0.321792   0.321792\n",
            "min     0.000000   0.000000   0.000000   0.000000\n",
            "25%     0.250000   0.250000   0.250000   0.250000\n",
            "50%     0.500000   0.500000   0.500000   0.500000\n",
            "75%     0.750000   0.750000   0.750000   0.750000\n",
            "max     1.000000   1.000000   1.000000   1.000000\n"
          ]
        }
      ],
      "source": [
        "import pandas as pd\n",
        "from sklearn.preprocessing import MinMaxScaler\n",
        "# Load the dataset\n",
        "file_path = ('/content/EMP_SAL.csv') # Update the path as needed\n",
        "df = pd.read_csv(file_path)\n",
        "# Display dataset info before preprocessing\n",
        "print(\"Dataset Information:\")\n",
        "print(df.info())\n",
        "print(\"\\nFirst Few Rows of the Dataset:\")\n",
        "print(df.head())\n",
        "# Check for missing values\n",
        "print(\"\\nMissing Values in Each Column:\")\n",
        "print(df.isnull().sum())\n",
        "# Since there are no missing values, we skip imputation\n",
        "# Define numerical columns for feature scaling\n",
        "numerical_cols = [\"BASIC_PAY\", \"HRA\", \"DA\", \"TAX\"]\n",
        "# Initialize the Min-Max Scaler\n",
        "scaler = MinMaxScaler()\n",
        "# Apply Min-Max Normalization\n",
        "df_scaled = df.copy() # Create a copy to preserve original data\n",
        "df_scaled[numerical_cols] = scaler.fit_transform(df[numerical_cols])\n",
        "# Display dataset after scaling\n",
        "print(\"\\nFirst Few Rows After Min-Max Scaling:\")\n",
        "print(df_scaled.head())\n",
        "# Save the processed dataset (optional)\n",
        "output_file = \"EMP_SAL_processed.csv\"\n",
        "df_scaled.to_csv(output_file, index=False)\n",
        "print(f\"\\nProcessed dataset saved as: {output_file}\")\n",
        "print(df_scaled.head())\n",
        "print(df_scaled.head(20)) # Displays the first 20 rows\n",
        "print(df_scaled)\n",
        "print(df_scaled.describe())"
      ]
    }
  ]
}